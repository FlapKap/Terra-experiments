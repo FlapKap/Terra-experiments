{
 "cells": [
  {
   "cell_type": "code",
   "execution_count": 1,
   "metadata": {},
   "outputs": [
    {
     "name": "stdout",
     "output_type": "stream",
     "text": [
      "Note: you may need to restart the kernel to use updated packages.\n"
     ]
    }
   ],
   "source": [
    "%pip install --quiet --upgrade pip jupysql ipywidgets ipympl duckdb duckdb-engine pandas matplotlib jupyterlab pyarrow numpy scipy statsmodels tabulate"
   ]
  },
  {
   "cell_type": "code",
   "execution_count": 2,
   "metadata": {},
   "outputs": [],
   "source": [
    "import duckdb\n",
    "import pandas as pd\n",
    "idx = pd.IndexSlice\n",
    "import ipywidgets as widgets\n",
    "from matplotlib import pyplot as plt, dates, ticker\n",
    "import numpy as np\n",
    "%load_ext sql\n",
    "%matplotlib widget\n",
    "conn = duckdb.connect()\n",
    "%sql conn --alias duckdb\n",
    "pd.options.mode.copy_on_write = True"
   ]
  },
  {
   "cell_type": "code",
   "execution_count": 3,
   "metadata": {},
   "outputs": [],
   "source": [
    "# set some matplotlib defaults\n",
    "from matplotlib.dates import DateFormatter, MinuteLocator, SecondLocator, MicrosecondLocator\n",
    "import matplotlib_inline\n",
    "matplotlib_inline.backend_inline.set_matplotlib_formats('pdf', 'svg')\n",
    "plt.rcParams['svg.fonttype'] = 'none'\n",
    "# Set the global locator and formatter\n",
    "plt.rcParams['date.autoformatter.microsecond'] = '%S.%f'  # Set the global format for microsecond level\n",
    "plt.rcParams['date.autoformatter.second'] = '%H:%M:%S'  # Set the global format for second level\n",
    "plt.rcParams['date.autoformatter.minute'] = '%H:%M'  # Set the global format for minute level\n",
    "plt.rcParams['date.autoformatter.hour'] = '%Y-%m-%d %H:%M'  # Set the global format for hour level\n",
    "plt.rcParams['date.autoformatter.day'] = '%Y-%m-%d %H:%M'  # Set the global format for day level\n",
    "plt.rcParams['date.autoformatter.month'] = '%Y-%m-%d %H:%M'  # Set the global format for month level\n",
    "plt.rcParams['date.autoformatter.year'] = '%Y-%m-%d %H:%M'  # Set the global format for year level\n",
    "\n",
    "plt.rcParams['axes.prop_cycle'] = plt.cycler(color=plt.cm.tab20.colors)\n",
    "plt.rcParams['legend.loc'] = \"upper right\""
   ]
  },
  {
   "cell_type": "code",
   "execution_count": 4,
   "metadata": {},
   "outputs": [],
   "source": [
    "%config SqlMagic.autopandas = True\n",
    "%config SqlMagic.displaycon = False"
   ]
  },
  {
   "cell_type": "code",
   "execution_count": 5,
   "metadata": {},
   "outputs": [
    {
     "data": {
      "text/html": [
       "<div>\n",
       "<style scoped>\n",
       "    .dataframe tbody tr th:only-of-type {\n",
       "        vertical-align: middle;\n",
       "    }\n",
       "\n",
       "    .dataframe tbody tr th {\n",
       "        vertical-align: top;\n",
       "    }\n",
       "\n",
       "    .dataframe thead th {\n",
       "        text-align: right;\n",
       "    }\n",
       "</style>\n",
       "<table border=\"1\" class=\"dataframe\">\n",
       "  <thead>\n",
       "    <tr style=\"text-align: right;\">\n",
       "      <th></th>\n",
       "      <th>Success</th>\n",
       "    </tr>\n",
       "  </thead>\n",
       "  <tbody>\n",
       "  </tbody>\n",
       "</table>\n",
       "</div>"
      ],
      "text/plain": [
       "Empty DataFrame\n",
       "Columns: [Success]\n",
       "Index: []"
      ]
     },
     "execution_count": 5,
     "metadata": {},
     "output_type": "execute_result"
    }
   ],
   "source": [
    "%%sql\n",
    "INSTALL sqlite;\n",
    "LOAD sqlite;"
   ]
  },
  {
   "cell_type": "code",
   "execution_count": 6,
   "metadata": {},
   "outputs": [
    {
     "data": {
      "text/html": [
       "<div>\n",
       "<style scoped>\n",
       "    .dataframe tbody tr th:only-of-type {\n",
       "        vertical-align: middle;\n",
       "    }\n",
       "\n",
       "    .dataframe tbody tr th {\n",
       "        vertical-align: top;\n",
       "    }\n",
       "\n",
       "    .dataframe thead th {\n",
       "        text-align: right;\n",
       "    }\n",
       "</style>\n",
       "<table border=\"1\" class=\"dataframe\">\n",
       "  <thead>\n",
       "    <tr style=\"text-align: right;\">\n",
       "      <th></th>\n",
       "      <th>Success</th>\n",
       "    </tr>\n",
       "  </thead>\n",
       "  <tbody>\n",
       "  </tbody>\n",
       "</table>\n",
       "</div>"
      ],
      "text/plain": [
       "Empty DataFrame\n",
       "Columns: [Success]\n",
       "Index: []"
      ]
     },
     "execution_count": 6,
     "metadata": {},
     "output_type": "execute_result"
    }
   ],
   "source": [
    "%%sql\n",
    "ATTACH '403241.db' AS expdb (TYPE SQLITE) ;\n",
    "USE expdb.main;"
   ]
  },
  {
   "cell_type": "code",
   "execution_count": 7,
   "metadata": {},
   "outputs": [
    {
     "data": {
      "text/html": [
       "<div>\n",
       "<style scoped>\n",
       "    .dataframe tbody tr th:only-of-type {\n",
       "        vertical-align: middle;\n",
       "    }\n",
       "\n",
       "    .dataframe tbody tr th {\n",
       "        vertical-align: top;\n",
       "    }\n",
       "\n",
       "    .dataframe thead th {\n",
       "        text-align: right;\n",
       "    }\n",
       "</style>\n",
       "<table border=\"1\" class=\"dataframe\">\n",
       "  <thead>\n",
       "    <tr style=\"text-align: right;\">\n",
       "      <th></th>\n",
       "      <th>node_deveui</th>\n",
       "      <th>node_appeui</th>\n",
       "      <th>node_appkey</th>\n",
       "      <th>board_id</th>\n",
       "      <th>radio_chipset</th>\n",
       "      <th>node_site</th>\n",
       "      <th>profile</th>\n",
       "      <th>riot_board</th>\n",
       "      <th>failed</th>\n",
       "    </tr>\n",
       "  </thead>\n",
       "  <tbody>\n",
       "    <tr>\n",
       "      <th>0</th>\n",
       "      <td>70B3D57ED005EA59</td>\n",
       "      <td>0000000000000000</td>\n",
       "      <td>385794DDE70CE2EAB5B5B12A4807822C</td>\n",
       "      <td>st-lrwan1</td>\n",
       "      <td>sx1276</td>\n",
       "      <td>saclay</td>\n",
       "      <td>stm32Profile</td>\n",
       "      <td>b-l072z-lrwan1</td>\n",
       "      <td>0</td>\n",
       "    </tr>\n",
       "    <tr>\n",
       "      <th>1</th>\n",
       "      <td>70B3D57ED005EA60</td>\n",
       "      <td>0000000000000000</td>\n",
       "      <td>385794DDE70CE2EAB5B5B12A4807822C</td>\n",
       "      <td>st-lrwan1</td>\n",
       "      <td>sx1276</td>\n",
       "      <td>saclay</td>\n",
       "      <td>stm32Profile</td>\n",
       "      <td>b-l072z-lrwan1</td>\n",
       "      <td>0</td>\n",
       "    </tr>\n",
       "    <tr>\n",
       "      <th>2</th>\n",
       "      <td>70B3D57ED005EA61</td>\n",
       "      <td>0000000000000000</td>\n",
       "      <td>385794DDE70CE2EAB5B5B12A4807822C</td>\n",
       "      <td>st-lrwan1</td>\n",
       "      <td>sx1276</td>\n",
       "      <td>saclay</td>\n",
       "      <td>stm32Profile</td>\n",
       "      <td>b-l072z-lrwan1</td>\n",
       "      <td>0</td>\n",
       "    </tr>\n",
       "    <tr>\n",
       "      <th>3</th>\n",
       "      <td>70B3D57ED005EA62</td>\n",
       "      <td>0000000000000000</td>\n",
       "      <td>385794DDE70CE2EAB5B5B12A4807822C</td>\n",
       "      <td>st-lrwan1</td>\n",
       "      <td>sx1276</td>\n",
       "      <td>saclay</td>\n",
       "      <td>stm32Profile</td>\n",
       "      <td>b-l072z-lrwan1</td>\n",
       "      <td>0</td>\n",
       "    </tr>\n",
       "    <tr>\n",
       "      <th>4</th>\n",
       "      <td>70B3D57ED005EA63</td>\n",
       "      <td>0000000000000000</td>\n",
       "      <td>385794DDE70CE2EAB5B5B12A4807822C</td>\n",
       "      <td>st-lrwan1</td>\n",
       "      <td>sx1276</td>\n",
       "      <td>saclay</td>\n",
       "      <td>stm32Profile</td>\n",
       "      <td>b-l072z-lrwan1</td>\n",
       "      <td>0</td>\n",
       "    </tr>\n",
       "    <tr>\n",
       "      <th>5</th>\n",
       "      <td>70B3D57ED005EA64</td>\n",
       "      <td>0000000000000000</td>\n",
       "      <td>385794DDE70CE2EAB5B5B12A4807822C</td>\n",
       "      <td>st-lrwan1</td>\n",
       "      <td>sx1276</td>\n",
       "      <td>saclay</td>\n",
       "      <td>stm32Profile</td>\n",
       "      <td>b-l072z-lrwan1</td>\n",
       "      <td>0</td>\n",
       "    </tr>\n",
       "    <tr>\n",
       "      <th>6</th>\n",
       "      <td>70B3D57ED005EA65</td>\n",
       "      <td>0000000000000000</td>\n",
       "      <td>385794DDE70CE2EAB5B5B12A4807822C</td>\n",
       "      <td>st-lrwan1</td>\n",
       "      <td>sx1276</td>\n",
       "      <td>saclay</td>\n",
       "      <td>stm32Profile</td>\n",
       "      <td>b-l072z-lrwan1</td>\n",
       "      <td>0</td>\n",
       "    </tr>\n",
       "    <tr>\n",
       "      <th>7</th>\n",
       "      <td>70B3D57ED005EA66</td>\n",
       "      <td>0000000000000000</td>\n",
       "      <td>385794DDE70CE2EAB5B5B12A4807822C</td>\n",
       "      <td>st-lrwan1</td>\n",
       "      <td>sx1276</td>\n",
       "      <td>saclay</td>\n",
       "      <td>stm32Profile</td>\n",
       "      <td>b-l072z-lrwan1</td>\n",
       "      <td>0</td>\n",
       "    </tr>\n",
       "    <tr>\n",
       "      <th>8</th>\n",
       "      <td>70B3D57ED005EA67</td>\n",
       "      <td>0000000000000000</td>\n",
       "      <td>385794DDE70CE2EAB5B5B12A4807822C</td>\n",
       "      <td>st-lrwan1</td>\n",
       "      <td>sx1276</td>\n",
       "      <td>saclay</td>\n",
       "      <td>stm32Profile</td>\n",
       "      <td>b-l072z-lrwan1</td>\n",
       "      <td>0</td>\n",
       "    </tr>\n",
       "    <tr>\n",
       "      <th>9</th>\n",
       "      <td>70B3D57ED005EA68</td>\n",
       "      <td>0000000000000000</td>\n",
       "      <td>385794DDE70CE2EAB5B5B12A4807822C</td>\n",
       "      <td>st-lrwan1</td>\n",
       "      <td>sx1276</td>\n",
       "      <td>saclay</td>\n",
       "      <td>stm32Profile</td>\n",
       "      <td>b-l072z-lrwan1</td>\n",
       "      <td>0</td>\n",
       "    </tr>\n",
       "    <tr>\n",
       "      <th>10</th>\n",
       "      <td>70B3D57ED005EA69</td>\n",
       "      <td>0000000000000000</td>\n",
       "      <td>385794DDE70CE2EAB5B5B12A4807822C</td>\n",
       "      <td>st-lrwan1</td>\n",
       "      <td>sx1276</td>\n",
       "      <td>saclay</td>\n",
       "      <td>stm32Profile</td>\n",
       "      <td>b-l072z-lrwan1</td>\n",
       "      <td>0</td>\n",
       "    </tr>\n",
       "  </tbody>\n",
       "</table>\n",
       "</div>"
      ],
      "text/plain": [
       "         node_deveui       node_appeui                       node_appkey  \\\n",
       "0   70B3D57ED005EA59  0000000000000000  385794DDE70CE2EAB5B5B12A4807822C   \n",
       "1   70B3D57ED005EA60  0000000000000000  385794DDE70CE2EAB5B5B12A4807822C   \n",
       "2   70B3D57ED005EA61  0000000000000000  385794DDE70CE2EAB5B5B12A4807822C   \n",
       "3   70B3D57ED005EA62  0000000000000000  385794DDE70CE2EAB5B5B12A4807822C   \n",
       "4   70B3D57ED005EA63  0000000000000000  385794DDE70CE2EAB5B5B12A4807822C   \n",
       "5   70B3D57ED005EA64  0000000000000000  385794DDE70CE2EAB5B5B12A4807822C   \n",
       "6   70B3D57ED005EA65  0000000000000000  385794DDE70CE2EAB5B5B12A4807822C   \n",
       "7   70B3D57ED005EA66  0000000000000000  385794DDE70CE2EAB5B5B12A4807822C   \n",
       "8   70B3D57ED005EA67  0000000000000000  385794DDE70CE2EAB5B5B12A4807822C   \n",
       "9   70B3D57ED005EA68  0000000000000000  385794DDE70CE2EAB5B5B12A4807822C   \n",
       "10  70B3D57ED005EA69  0000000000000000  385794DDE70CE2EAB5B5B12A4807822C   \n",
       "\n",
       "     board_id radio_chipset node_site       profile      riot_board  failed  \n",
       "0   st-lrwan1        sx1276    saclay  stm32Profile  b-l072z-lrwan1       0  \n",
       "1   st-lrwan1        sx1276    saclay  stm32Profile  b-l072z-lrwan1       0  \n",
       "2   st-lrwan1        sx1276    saclay  stm32Profile  b-l072z-lrwan1       0  \n",
       "3   st-lrwan1        sx1276    saclay  stm32Profile  b-l072z-lrwan1       0  \n",
       "4   st-lrwan1        sx1276    saclay  stm32Profile  b-l072z-lrwan1       0  \n",
       "5   st-lrwan1        sx1276    saclay  stm32Profile  b-l072z-lrwan1       0  \n",
       "6   st-lrwan1        sx1276    saclay  stm32Profile  b-l072z-lrwan1       0  \n",
       "7   st-lrwan1        sx1276    saclay  stm32Profile  b-l072z-lrwan1       0  \n",
       "8   st-lrwan1        sx1276    saclay  stm32Profile  b-l072z-lrwan1       0  \n",
       "9   st-lrwan1        sx1276    saclay  stm32Profile  b-l072z-lrwan1       0  \n",
       "10  st-lrwan1        sx1276    saclay  stm32Profile  b-l072z-lrwan1       0  "
      ]
     },
     "execution_count": 7,
     "metadata": {},
     "output_type": "execute_result"
    }
   ],
   "source": [
    "nodes = %sql SELECT * FROM expdb.Node\n",
    "nodes"
   ]
  },
  {
   "cell_type": "code",
   "execution_count": 8,
   "metadata": {},
   "outputs": [
    {
     "data": {
      "text/html": [
       "<div>\n",
       "<style scoped>\n",
       "    .dataframe tbody tr th:only-of-type {\n",
       "        vertical-align: middle;\n",
       "    }\n",
       "\n",
       "    .dataframe tbody tr th {\n",
       "        vertical-align: top;\n",
       "    }\n",
       "\n",
       "    .dataframe thead th {\n",
       "        text-align: right;\n",
       "    }\n",
       "</style>\n",
       "<table border=\"1\" class=\"dataframe\">\n",
       "  <thead>\n",
       "    <tr style=\"text-align: right;\">\n",
       "      <th></th>\n",
       "      <th>database_name</th>\n",
       "      <th>database_oid</th>\n",
       "      <th>path</th>\n",
       "      <th>comment</th>\n",
       "      <th>tags</th>\n",
       "      <th>internal</th>\n",
       "      <th>type</th>\n",
       "      <th>readonly</th>\n",
       "    </tr>\n",
       "  </thead>\n",
       "  <tbody>\n",
       "    <tr>\n",
       "      <th>0</th>\n",
       "      <td>expdb</td>\n",
       "      <td>1776</td>\n",
       "      <td>403241.db</td>\n",
       "      <td>None</td>\n",
       "      <td>{'key': [], 'value': []}</td>\n",
       "      <td>False</td>\n",
       "      <td>sqlite</td>\n",
       "      <td>False</td>\n",
       "    </tr>\n",
       "  </tbody>\n",
       "</table>\n",
       "</div>"
      ],
      "text/plain": [
       "  database_name  database_oid       path comment                      tags  \\\n",
       "0         expdb          1776  403241.db    None  {'key': [], 'value': []}   \n",
       "\n",
       "   internal    type  readonly  \n",
       "0     False  sqlite     False  "
      ]
     },
     "execution_count": 8,
     "metadata": {},
     "output_type": "execute_result"
    }
   ],
   "source": [
    "database = %sql select * from duckdb_databases()  where duckdb_databases.path like '%.db'\n",
    "database"
   ]
  },
  {
   "cell_type": "code",
   "execution_count": 9,
   "metadata": {},
   "outputs": [
    {
     "data": {
      "text/html": [
       "<div>\n",
       "<style scoped>\n",
       "    .dataframe tbody tr th:only-of-type {\n",
       "        vertical-align: middle;\n",
       "    }\n",
       "\n",
       "    .dataframe tbody tr th {\n",
       "        vertical-align: top;\n",
       "    }\n",
       "\n",
       "    .dataframe thead th {\n",
       "        text-align: right;\n",
       "    }\n",
       "</style>\n",
       "<table border=\"1\" class=\"dataframe\">\n",
       "  <thead>\n",
       "    <tr style=\"text-align: right;\">\n",
       "      <th></th>\n",
       "      <th>node_id</th>\n",
       "      <th>count_star()</th>\n",
       "    </tr>\n",
       "  </thead>\n",
       "  <tbody>\n",
       "  </tbody>\n",
       "</table>\n",
       "</div>"
      ],
      "text/plain": [
       "Empty DataFrame\n",
       "Columns: [node_id, count_star()]\n",
       "Index: []"
      ]
     },
     "execution_count": 9,
     "metadata": {},
     "output_type": "execute_result"
    }
   ],
   "source": [
    "nodes_with_queries = %sql SELECT node_id, count(*) FROM expdb.Trace WHERE Trace.message like 'Execute Queries%' GROUP BY Trace.node_id;\n",
    "nodes_with_queries\n"
   ]
  },
  {
   "cell_type": "code",
   "execution_count": 10,
   "metadata": {},
   "outputs": [],
   "source": [
    "power_consumption= %sql select timestamp,power,current,voltage,node_id from expdb.Power_Consumption\n",
    "\n",
    "#reduce memory consumption\n",
    "power_consumption[[\"power\", \"current\", \"voltage\"]] = power_consumption[[\"power\", \"current\", \"voltage\"]].apply(pd.to_numeric, downcast=\"float\")\n",
    "power_consumption[\"node_id\"] = power_consumption[\"node_id\"].astype(\"category\")\n",
    "power_consumption.head()\n",
    "#filter to only contain results where we have a query\n",
    "power_consumption = power_consumption[power_consumption[\"node_id\"].isin(nodes_with_queries[\"node_id\"])]\n",
    "#power_consumption = power_consumption.set_index([\"node_id\",\"timestamp\"])\n",
    "#power_consumption = power_consumption.sort_index()"
   ]
  },
  {
   "cell_type": "code",
   "execution_count": 11,
   "metadata": {},
   "outputs": [
    {
     "data": {
      "text/plain": [
       "Index           0\n",
       "timestamp       0\n",
       "power           0\n",
       "current         0\n",
       "voltage         0\n",
       "node_id      1103\n",
       "dtype: int64"
      ]
     },
     "execution_count": 11,
     "metadata": {},
     "output_type": "execute_result"
    }
   ],
   "source": [
    "power_consumption.memory_usage(deep=True)"
   ]
  },
  {
   "cell_type": "code",
   "execution_count": 12,
   "metadata": {},
   "outputs": [],
   "source": [
    "import json\n",
    "from pathlib import Path\n",
    "EXP_ID = database.loc[0, \"path\"].split(\".\")[0]\n",
    "##find config file\n",
    "\n",
    "EXP_CONFIG = json.load(open(next((Path.cwd() / \"data\" / str(EXP_ID)).glob(\"*.json\"))))"
   ]
  },
  {
   "cell_type": "code",
   "execution_count": 13,
   "metadata": {},
   "outputs": [
    {
     "name": "stdout",
     "output_type": "stream",
     "text": [
      "\n",
      "EXPERIMENT OVERVIEW:\n",
      "\n",
      "expid: 403241\n",
      "duration: 60 minutes\n",
      "epoch: 120 seconds\n",
      "sites used: saclay\n",
      "\n",
      "Node overview:\n",
      "node_site  riot_board    \n",
      "saclay     b-l072z-lrwan1    11\n",
      "\n"
     ]
    }
   ],
   "source": [
    "print(f\"\"\"\n",
    "EXPERIMENT OVERVIEW:\n",
    "\n",
    "expid: {EXP_ID}\n",
    "duration: {EXP_CONFIG[\"DURATION\"]} minutes\n",
    "epoch: {EXP_CONFIG[\"EXECUTION_EPOCH_S\"]} seconds\n",
    "sites used: {\" \".join(nodes[\"node_site\"].unique())}\n",
    "\n",
    "Node overview:\n",
    "{nodes.groupby([\"node_site\",\"riot_board\"]).size().to_string()}\n",
    "\"\"\")"
   ]
  },
  {
   "cell_type": "code",
   "execution_count": 14,
   "metadata": {},
   "outputs": [
    {
     "name": "stderr",
     "output_type": "stream",
     "text": [
      "/tmp/ipykernel_629131/3338276249.py:17: UserWarning: No artists with labels found to put in legend.  Note that artists whose label start with an underscore are ignored when legend() is called with no argument.\n",
      "  plt.legend()\n",
      "Locator attempting to generate 2881 ticks ([0.0, ..., 1.0]), which exceeds Locator.MAXTICKS (1000).\n",
      "Locator attempting to generate 17281 ticks ([0.0, ..., 1.0]), which exceeds Locator.MAXTICKS (1000).\n",
      "Locator attempting to generate 2881 ticks ([0.0, ..., 1.0]), which exceeds Locator.MAXTICKS (1000).\n",
      "Locator attempting to generate 2881 ticks ([0.0, ..., 1.0]), which exceeds Locator.MAXTICKS (1000).\n",
      "Locator attempting to generate 17281 ticks ([0.0, ..., 1.0]), which exceeds Locator.MAXTICKS (1000).\n",
      "Locator attempting to generate 2881 ticks ([0.0, ..., 1.0]), which exceeds Locator.MAXTICKS (1000).\n",
      "Locator attempting to generate 2881 ticks ([0.0, ..., 1.0]), which exceeds Locator.MAXTICKS (1000).\n",
      "Locator attempting to generate 17281 ticks ([0.0, ..., 1.0]), which exceeds Locator.MAXTICKS (1000).\n",
      "Locator attempting to generate 2881 ticks ([0.0, ..., 1.0]), which exceeds Locator.MAXTICKS (1000).\n"
     ]
    },
    {
     "data": {
      "application/vnd.jupyter.widget-view+json": {
       "model_id": "a1acb6d882f64ff78a9158e76cb2b02d",
       "version_major": 2,
       "version_minor": 0
      },
      "image/png": "[encoded data removed]",
      "text/html": [
       "\n",
       "            <div style=\"display: inline-block;\">\n",
       "                <div class=\"jupyter-widgets widget-label\" style=\"text-align: center;\">\n",
       "                    Figure\n",
       "                </div>\n",
       "                <img src='data:image/png;base64,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' width=640.0/>\n",
       "            </div>\n",
       "        "
      ],
      "text/plain": [
       "Canvas(toolbar=Toolbar(toolitems=[('Home', 'Reset original view', 'home', 'home'), ('Back', 'Back to previous …"
      ]
     },
     "metadata": {},
     "output_type": "display_data"
    }
   ],
   "source": [
    "plt.figure()\n",
    "\n",
    "for node_id, group in power_consumption.groupby(\"node_id\", observed=True):\n",
    "    idxs = np.linspace(0,len(group), 50000, endpoint=False, dtype=int)\n",
    "    \n",
    "    subset_power = group[\"power\"].iloc[idxs]\n",
    "    subset_timestamp = group[\"timestamp\"].iloc[idxs]\n",
    "    plt.plot(subset_timestamp, subset_power, label=node_id, linewidth=0.5)\n",
    "\n",
    "plt.xlabel(\"Timestamp\")\n",
    "plt.xticks(rotation=45)\n",
    "plt.ylabel(\"Power (Watt)\")\n",
    "plt.gca().xaxis.set_major_locator(SecondLocator(interval=30))  # Set the major locator to display labels every 30 seconds\n",
    "plt.gca().xaxis.set_minor_locator(SecondLocator(interval=5))  # Set the minor locator to display labels at millisecond level\n",
    "plt.gca().xaxis.set_major_formatter(DateFormatter('%H:%M:%S')) \n",
    "#plt.gca().xaxis.set_minor_formatter(DateFormatter('%S.%f'))  \n",
    "plt.legend()\n",
    "plt.show()"
   ]
  },
  {
   "cell_type": "markdown",
   "metadata": {},
   "source": [
    "## finding sync signals"
   ]
  },
  {
   "cell_type": "code",
   "execution_count": 15,
   "metadata": {},
   "outputs": [],
   "source": [
    "BLINK_HIGH_MS = 200\n",
    "BLINK_PRE_MS = 100\n",
    "BLINK_POST_MS = 100"
   ]
  },
  {
   "cell_type": "code",
   "execution_count": null,
   "metadata": {},
   "outputs": [
    {
     "name": "stderr",
     "output_type": "stream",
     "text": [
      "Locator attempting to generate 2881 ticks ([0.0, ..., 1.0]), which exceeds Locator.MAXTICKS (1000).\n",
      "Locator attempting to generate 2881 ticks ([0.0, ..., 1.0]), which exceeds Locator.MAXTICKS (1000).\n",
      "Locator attempting to generate 17281 ticks ([0.0, ..., 1.0]), which exceeds Locator.MAXTICKS (1000).\n",
      "Locator attempting to generate 2881 ticks ([0.0, ..., 1.0]), which exceeds Locator.MAXTICKS (1000).\n",
      "Locator attempting to generate 2881 ticks ([0.0, ..., 1.0]), which exceeds Locator.MAXTICKS (1000).\n",
      "Locator attempting to generate 17281 ticks ([0.0, ..., 1.0]), which exceeds Locator.MAXTICKS (1000).\n",
      "Locator attempting to generate 2881 ticks ([0.0, ..., 1.0]), which exceeds Locator.MAXTICKS (1000).\n",
      "Locator attempting to generate 2881 ticks ([0.0, ..., 1.0]), which exceeds Locator.MAXTICKS (1000).\n",
      "Locator attempting to generate 17281 ticks ([0.0, ..., 1.0]), which exceeds Locator.MAXTICKS (1000).\n",
      "Locator attempting to generate 2881 ticks ([0.0, ..., 1.0]), which exceeds Locator.MAXTICKS (1000).\n",
      "Locator attempting to generate 2881 ticks ([0.0, ..., 1.0]), which exceeds Locator.MAXTICKS (1000).\n",
      "Locator attempting to generate 17281 ticks ([0.0, ..., 1.0]), which exceeds Locator.MAXTICKS (1000).\n",
      "Locator attempting to generate 2881 ticks ([0.0, ..., 1.0]), which exceeds Locator.MAXTICKS (1000).\n",
      "Locator attempting to generate 2881 ticks ([0.0, ..., 1.0]), which exceeds Locator.MAXTICKS (1000).\n",
      "Locator attempting to generate 17281 ticks ([0.0, ..., 1.0]), which exceeds Locator.MAXTICKS (1000).\n",
      "Locator attempting to generate 2881 ticks ([0.0, ..., 1.0]), which exceeds Locator.MAXTICKS (1000).\n",
      "Locator attempting to generate 2881 ticks ([0.0, ..., 1.0]), which exceeds Locator.MAXTICKS (1000).\n",
      "Locator attempting to generate 17281 ticks ([0.0, ..., 1.0]), which exceeds Locator.MAXTICKS (1000).\n",
      "Locator attempting to generate 2881 ticks ([0.0, ..., 1.0]), which exceeds Locator.MAXTICKS (1000).\n",
      "Locator attempting to generate 2881 ticks ([0.0, ..., 1.0]), which exceeds Locator.MAXTICKS (1000).\n",
      "Locator attempting to generate 17281 ticks ([0.0, ..., 1.0]), which exceeds Locator.MAXTICKS (1000).\n",
      "Locator attempting to generate 2881 ticks ([0.0, ..., 1.0]), which exceeds Locator.MAXTICKS (1000).\n"
     ]
    }
   ],
   "source": [
    "#diff of each group\n",
    "power_consumption['power_diff'] = power_consumption.groupby(\"node_id\", observed=True)[\"power\"].diff()\n",
    "\n",
    "\n",
    "plt.figure()\n",
    "for node_id, group in power_consumption.groupby(\"node_id\", observed=True):\n",
    "    idxs = np.linspace(0,len(group), 5000, endpoint=False, dtype=int) # there are comparatively few but big jumps, so hard to see when just taking \"random\" indexes\n",
    "    subset_power_diff = group[\"power_diff\"].iloc[idxs]\n",
    "    subset_timestamp = group[\"timestamp\"].iloc[idxs]\n",
    "    plt.plot(subset_timestamp, subset_power_diff, label=node_id, linewidth=0.5)\n",
    "plt.title(\"Power Difference per node_id\")\n",
    "plt.xlabel(\"Timestamp\")\n",
    "plt.ylabel(\"Power Difference (Watt)\")\n",
    "plt.legend()\n",
    "plt.show()"
   ]
  },
  {
   "cell_type": "code",
   "execution_count": null,
   "metadata": {},
   "outputs": [],
   "source": [
    "plt.figure()\n",
    "power_consumption['power'].hist(bins=1000)\n",
    "plt.show()"
   ]
  },
  {
   "cell_type": "code",
   "execution_count": null,
   "metadata": {},
   "outputs": [],
   "source": [
    "EDGE_SIZE = 0.07\n",
    "rising_edge = power_consumption[power_consumption[\"power_diff\"] > EDGE_SIZE].copy()\n",
    "rising_edge.loc[:,'direction'] = 'rising'\n",
    "falling_edge = power_consumption[power_consumption[\"power_diff\"] < -EDGE_SIZE].copy()\n",
    "falling_edge.loc[:,'direction'] = 'falling'\n",
    "edges = pd.concat([rising_edge, falling_edge], verify_integrity=True)\n",
    "edges.sort_index(inplace=True)\n",
    "edges.head()"
   ]
  },
  {
   "cell_type": "code",
   "execution_count": null,
   "metadata": {},
   "outputs": [],
   "source": [
    "# plot the edges in an example\n",
    "node_id = power_consumption[\"node_id\"].iloc[0]\n",
    "to_plot = power_consumption[power_consumption[\"node_id\"] == node_id]\n",
    "low_point = to_plot[\"power\"].min()\n",
    "high_point = to_plot[\"power\"].max()\n",
    "plt.figure()\n",
    "plt.vlines(rising_edge[rising_edge[\"node_id\"] == node_id][\"timestamp\"], ymin=low_point, ymax=high_point, color='green')\n",
    "plt.vlines(falling_edge.loc[falling_edge[\"node_id\"] == node_id, \"timestamp\"], ymin=low_point, ymax=high_point, color='red')\n",
    "plt.plot(to_plot[\"timestamp\"], to_plot[\"power\"], label=node_id, linewidth=0.5)\n",
    "\n",
    "plt.title(\"Power Difference per node_id\")\n",
    "plt.xlabel(\"Timestamp\")\n",
    "plt.ylabel(\"Power Difference (Watt)\")\n",
    "plt.legend()\n",
    "plt.show()"
   ]
  },
  {
   "cell_type": "code",
   "execution_count": null,
   "metadata": {},
   "outputs": [],
   "source": [
    "# populate edges with next direction and timestamps to later filter out edges that are too close to each other.\n",
    "# need the index as dedicated column for this to be possible as a groupby transformation\n",
    "\n",
    "edges['next_direction'] = edges.groupby('node_id', observed=True)['direction'].shift(-1)\n",
    "edges['next_timestamp'] = edges.groupby('node_id', observed=True)['timestamp'].shift(-1)\n",
    "edges.head()"
   ]
  },
  {
   "cell_type": "code",
   "execution_count": null,
   "metadata": {},
   "outputs": [],
   "source": [
    "# filter out edges that are too close to each other or too far apart. We add 5% tolerance\n",
    "edges = edges[(edges['direction'] == \"rising\") & (edges['next_direction'] == \"falling\") & ((edges['next_timestamp'] - edges[\"timestamp\"] < pd.Timedelta(milliseconds=BLINK_HIGH_MS + (BLINK_HIGH_MS/40)))  & (edges['next_timestamp'] - edges[\"timestamp\"] > pd.Timedelta(milliseconds=BLINK_HIGH_MS - (BLINK_HIGH_MS/40))))]\n",
    "\n",
    "# filter out edges where the consumption between them is not relatively constant\n",
    "#edges[['node_id','timestamp', 'next_timestamp']].apply(lambda x: power_consumption[(power_consumption['node_id'] == x['node_id']) & (power_consumption['timestamp'] >= x['timestamp']) & (power_consumption['timestamp'] <= x['next_timestamp'])][\"power\"].diff().mean() < 0.1, axis=1)\n",
    "\n",
    "edges.head()"
   ]
  },
  {
   "cell_type": "code",
   "execution_count": null,
   "metadata": {},
   "outputs": [],
   "source": [
    "## add sync signal start and end times\n",
    "edges.loc[:, 'sync_start'] = edges[\"timestamp\"] - pd.Timedelta(milliseconds=100)\n",
    "edges.loc[:, 'sync_end'] = edges.next_timestamp + pd.Timedelta(milliseconds=100)\n",
    "edges.head()"
   ]
  },
  {
   "cell_type": "code",
   "execution_count": null,
   "metadata": {},
   "outputs": [],
   "source": [
    "groups_by_node_id = power_consumption.groupby('node_id', observed=True)\n",
    "edges_by_node_id = edges.groupby('node_id', observed=True)\n",
    "\n",
    "fig, axs = plt.subplots(len(groups_by_node_id), 1, sharex=True, sharey=True, layout='constrained', figsize=(20, 10))\n",
    "## axs is not a list if there is only a single group, so we need to wrap it in a list\n",
    "if not isinstance(axs, list) and not isinstance(axs, np.ndarray):\n",
    "    axs = [axs]\n",
    "\n",
    "low_point = power_consumption[\"power\"].min()\n",
    "high_point = power_consumption[\"power\"].max()\n",
    "\n",
    "fig.supxlabel(\"Timestamp\")\n",
    "fig.supylabel(\"Power (Watt)\")\n",
    "fig.suptitle(\"Power consumption over time with sync signal detection\")\n",
    "for ((node_id, group), ax) in zip(groups_by_node_id, axs):\n",
    "    if node_id in edges_by_node_id.groups:\n",
    "        edges_grouped = edges_by_node_id.get_group(node_id)\n",
    "\n",
    "        ax.vlines(edges_grouped['timestamp'], ymin=low_point, ymax=high_point, color='red')\n",
    "        ax.vlines(edges_grouped['next_timestamp'], ymin=low_point, ymax=high_point, color='green')\n",
    "        for row in edges_by_node_id.get_group(node_id).itertuples():\n",
    "            ax.axvspan(row.sync_start, row.sync_end, color='grey', alpha=0.5)\n",
    "\n",
    "    else:\n",
    "        print(f\"Node {node_id} has no edges\")\n",
    "    idxs = np.linspace(0, len(group), endpoint=False, num=1000000, dtype=int)\n",
    "    subset_power = group[\"power\"].iloc[idxs]\n",
    "    subset_timestamp = group[\"timestamp\"].iloc[idxs]\n",
    "    ax.plot(subset_timestamp, subset_power, label=node_id, marker='.')\n",
    "    ax.set_title(node_id, fontsize='small', loc='left')\n",
    "plt.show()"
   ]
  },
  {
   "cell_type": "code",
   "execution_count": null,
   "metadata": {},
   "outputs": [],
   "source": [
    "# every loop starts with 2 sync signals right after each other\n",
    "# find all sync signals where the next start is very close to previous end\n",
    "grouped = edges.groupby('node_id', observed=True)\n",
    "edges['next_sync_start'] = grouped['sync_start'].shift(-1)\n",
    "edges['next_sync_end'] = grouped['sync_end'].shift(-1)\n",
    "loops = edges[((edges['next_sync_start'] - edges['sync_end']) < pd.Timedelta(milliseconds=500)) & ((edges['next_sync_start'] - edges['sync_end']) > pd.Timedelta(milliseconds=0))][['node_id', 'sync_start', 'next_sync_end']].copy()\n",
    "print(loops.columns)\n",
    "loops.rename(columns={'sync_start': 'loop_signal_start', 'next_sync_end': 'loop_signal_end'}, inplace=True)\n",
    "\n",
    "#filter out loops where the sync signals are too close to each other given the known duration of loops\n",
    "#loops = loops[loops.groupby('node_id')[\"loop_signal_start\"].diff() > pd.Timedelta(seconds=EXP_CONFIG[\"EXECUTION_EPOCH_S\"]*0.5)]\n",
    "\n",
    "loops['loop_num'] = loops.groupby('node_id', observed=True).cumcount()\n",
    "\n",
    "\n",
    "## find any loops where the duration is higher than the expected duration. This should either be empty or only contain loop 0 loops\n",
    "loops[loops.groupby('node_id', observed=True)[\"loop_signal_start\"].diff() > pd.Timedelta(seconds=EXP_CONFIG[\"EXECUTION_EPOCH_S\"]*1.5)]\n"
   ]
  },
  {
   "cell_type": "code",
   "execution_count": null,
   "metadata": {},
   "outputs": [],
   "source": [
    "\n",
    "groups_by_node_id = power_consumption.groupby('node_id', observed=True)\n",
    "loops_by_node_id = loops.groupby('node_id', observed=True)\n",
    "fig, axs = plt.subplots(len(groups_by_node_id), 1, sharex=True, sharey=True, figsize=(12, 10), layout='constrained')\n",
    "text_y_pos = power_consumption['power'].mean()\n",
    "fig.supxlabel(\"Timestamp\")\n",
    "fig.supylabel(\"Power (Watt)\")\n",
    "fig.suptitle(\"Power consumption over time with loop detection\")\n",
    "## axs is not a list if there is only a single group, so we need to wrap it in a list'\n",
    "if not isinstance(axs, list) and not isinstance(axs, np.ndarray):\n",
    "    axs = [axs]\n",
    "for ((node_id, group), ax) in zip(groups_by_node_id, axs):\n",
    "    if node_id in loops_by_node_id.groups:\n",
    "        loops_group = loops_by_node_id.get_group(node_id)\n",
    "        for row in loops_group.itertuples():\n",
    "            ax.axvspan(row.loop_signal_start, row.loop_signal_end, color='tab:gray', alpha=0.5, label=\"loop signal\")\n",
    "            ax.text(row.loop_signal_end, text_y_pos, f\"{row.loop_num}\", rotation=45)\n",
    "    else:\n",
    "        print(f\"Node {node_id} has no loops\")\n",
    "    idxs = np.linspace(0, len(group), endpoint=False, num=100000, dtype=int)\n",
    "    subset_power = group[\"power\"].iloc[idxs]\n",
    "    subset_timestamp = group[\"timestamp\"].iloc[idxs]\n",
    "    ax.plot(subset_timestamp, subset_power,label=node_id, marker='.')\n",
    "    ax.set_title(node_id, fontsize='small', loc='left')\n",
    "\n",
    "plt.show()"
   ]
  },
  {
   "cell_type": "code",
   "execution_count": null,
   "metadata": {},
   "outputs": [],
   "source": [
    "%%sql timings << SELECT \n",
    "    node_id,\n",
    "    timestamp,\n",
    "    regexp_extract(message, 'Loop: (-?[0-9]+)',1) as loop_num,\n",
    "    regexp_extract(message, '.*Sync: (-?[0-9]+)',1) as sync_time_ms,\n",
    "    regexp_extract(message, '.*Load: (-?[0-9]+)',1) as load_time_ms,\n",
    "    regexp_extract(message, '.*deserialize: (-?[0-9]+)',1) as deserialize_time_ms,\n",
    "    regexp_extract(message, '.*sensor init: (-?[0-9]+)',1) as sensor_init_time_ms,\n",
    "    regexp_extract(message, '.*net init: (-?[0-9]+)',1) as net_init_time_ms,\n",
    "    --regexp_extract(message, '.*Listen: (-?[0-9]+)',1) as listen_time_ms,\n",
    "    regexp_extract(message, '.*Collect: (-?[0-9]+)',1) as collect_time_ms,\n",
    "    regexp_extract(message, '.*Exec tflite: (-?[0-9]+)',1) as exec_tflite_time_ms,\n",
    "    regexp_extract(message, '.*Exec query: (-?[0-9]+)',1) as exec_query_time_ms,\n",
    "    regexp_extract(message, '.*Send: (-?[0-9]+)',1) as send_time_ms,\n",
    "    regexp_extract(message, '.*save config: (-?[0-9]+)',1) as save_config_time_ms,\n",
    "    regexp_extract(message, '.*Sleep: (-?[0-9]+)',1) as sleep_time_s\n",
    "FROM expdb.Trace\n",
    "WHERE message LIKE 'TIMINGS>%'"
   ]
  },
  {
   "cell_type": "code",
   "execution_count": null,
   "metadata": {},
   "outputs": [],
   "source": [
    "# 'TIMINGS> Loop: 0, Sync: 806 ms, Load: 40 ms, sensor init: 10 ms, env init: 0 ms, net init: 5216 ms, Collect: -1 ms, Exec: -1 ms, Send: 5119 ms, save config: 2646 ms, Sleep: 9 s\\n'\n",
    "timings['node_id'].unique()"
   ]
  },
  {
   "cell_type": "code",
   "execution_count": null,
   "metadata": {},
   "outputs": [],
   "source": [
    "# since duckdb return all columns as object we need to change types before we can merge\n",
    "\n",
    "timings[['loop_num', 'sync_time_ms', 'load_time_ms', 'deserialize_time_ms', 'sensor_init_time_ms', 'net_init_time_ms', 'collect_time_ms', 'exec_tflite_time_ms', 'exec_query_time_ms', 'send_time_ms', 'save_config_time_ms', 'sleep_time_s']] = timings[['loop_num', 'sync_time_ms', 'load_time_ms', 'deserialize_time_ms', 'sensor_init_time_ms', 'net_init_time_ms', 'collect_time_ms', 'exec_tflite_time_ms', 'exec_query_time_ms', 'send_time_ms', 'save_config_time_ms', 'sleep_time_s']].apply(pd.to_numeric)\n",
    "\n",
    "# .. and merge. here we need to reset index first, since df.merge doesnt preserve index\n",
    "loops = loops.reset_index().merge(timings, on=['node_id', 'loop_num'], validate=\"many_to_one\").set_index('loop_signal_start')\n",
    "loops.head()"
   ]
  },
  {
   "cell_type": "code",
   "execution_count": null,
   "metadata": {},
   "outputs": [],
   "source": [
    "\n",
    "loops[\"start_time\"] = loops.index\n",
    "loops[\"sync_start\"] = loops[\"start_time\"]\n",
    "loops[\"sync_end\"] = loops[\"sync_start\"] + pd.to_timedelta(loops[\"sync_time_ms\"], unit=\"ms\")\n",
    "loops[\"load_start\"] = loops[\"sync_end\"]\n",
    "loops[\"load_end\"] = loops[\"load_start\"] + pd.to_timedelta(loops[\"load_time_ms\"], unit=\"ms\")\n",
    "loops[\"deserialize_start\"] = loops[\"load_end\"]\n",
    "loops[\"deserialize_end\"] = loops[\"deserialize_start\"] + pd.to_timedelta(loops[\"deserialize_time_ms\"], unit=\"ms\")\n",
    "loops[\"sensor_init_start\"] = loops[\"deserialize_end\"]\n",
    "loops[\"sensor_init_end\"] = loops[\"sensor_init_start\"] + pd.to_timedelta(loops[\"sensor_init_time_ms\"], unit=\"ms\")\n",
    "loops[\"net_init_start\"] = loops[\"sensor_init_end\"]\n",
    "loops[\"net_init_end\"] = loops[\"net_init_start\"] + pd.to_timedelta(loops[\"net_init_time_ms\"], unit=\"ms\")\n",
    "loops[\"collect_time_start\"] = loops[\"net_init_end\"]\n",
    "loops[\"collect_time_end\"] = loops[\"collect_time_start\"] +pd.to_timedelta(loops[\"collect_time_ms\"], unit=\"ms\")\n",
    "loops[\"exec_tflite_start\"] = loops[\"collect_time_end\"]\n",
    "loops[\"exec_tflite_end\"] = loops[\"exec_tflite_start\"] + pd.to_timedelta(loops[\"exec_tflite_time_ms\"], unit=\"ms\")\n",
    "loops[\"exec_query_start\"] = loops[\"exec_tflite_end\"]\n",
    "loops[\"exec_query_end\"] = loops[\"exec_query_start\"] + pd.to_timedelta(loops[\"exec_query_time_ms\"], unit=\"ms\")\n",
    "loops[\"send_start\"] = loops[\"exec_query_end\"]\n",
    "loops[\"send_end\"] = loops[\"send_start\"] +pd.to_timedelta(loops[\"send_time_ms\"], unit=\"ms\")\n",
    "loops[\"save_config_start\"] = loops[\"send_end\"]\n",
    "loops[\"save_config_end\"] = loops[\"save_config_start\"] + pd.to_timedelta(loops[\"save_config_time_ms\"], unit=\"ms\")\n",
    "loops[\"sleep_start\"] = loops[\"save_config_end\"]\n",
    "loops[\"sleep_end\"] = loops[\"sleep_start\"] + pd.to_timedelta(loops[\"sleep_time_s\"], unit=\"s\")\n",
    "\n",
    "# there is a bit of space between sleep end and the next loop start. This is the riot os initialisation time. we also mark that\n",
    "# NOTE: this is not a perfect solution as it doesnt include the very first riot os initialization time. but it is good enough for now\n",
    "for node_id in loops[\"node_id\"].unique():\n",
    "    loops.loc[loops[\"node_id\"] == node_id, \"riotos_init_start\"] = loops.loc[loops[\"node_id\"] == node_id, \"sleep_end\"].shift(1)\n",
    "    loops.loc[loops[\"node_id\"] == node_id, \"riotos_init_end\"] = loops.loc[loops[\"node_id\"] == node_id, \"start_time\"]\n",
    "\n",
    "loops.replace(-1,0) # remove -1 values. They show up if the time measurement is not available\n",
    "\n",
    "loops.iloc[1]"
   ]
  },
  {
   "cell_type": "code",
   "execution_count": null,
   "metadata": {},
   "outputs": [],
   "source": [
    "# Here we add activity category and the loop number to each power_consumption measurements. Lots of tracking need to be done to make sure we do it correctly per node_id\n",
    "# and to add activities which we cannot track using the timing traces. I.e. the riot initialisation\n",
    "\n",
    "# temp set index of power consumption to make below operation much faster\n",
    "#power_consumption.drop(columns=[\"activity\",\"loop_num\"], inplace=True)\n",
    "power_consumption = power_consumption.set_index([\"node_id\",\"timestamp\"])\n",
    "power_consumption = power_consumption.sort_index()\n",
    "\n",
    "for loop in loops.itertuples(name=\"Loop\"):\n",
    "    # Note: that the loop number is only ansigned for the actual terra loop. The riotos init time does not get a loop number\n",
    "    power_consumption.loc[idx[loop.node_id, loop.sync_start:loop.sync_end], \"loop_num\"]                 = int(loop.loop_num)\n",
    "    power_consumption.loc[idx[loop.node_id, loop.sync_start:loop.sync_end], \"activity\"]                 = \"sync\"\n",
    "    power_consumption.loc[idx[loop.node_id, loop.load_start:loop.load_end], \"activity\"]                 = \"load\"\n",
    "    power_consumption.loc[idx[loop.node_id, loop.deserialize_start:loop.deserialize_end], \"activity\"]   = \"deserialize\"\n",
    "    power_consumption.loc[idx[loop.node_id, loop.sensor_init_start:loop.sensor_init_end], \"activity\"]   = \"sensor_init\"\n",
    "    power_consumption.loc[idx[loop.node_id, loop.net_init_start:loop.net_init_end], \"activity\"]         = \"net_init\"\n",
    "    power_consumption.loc[idx[loop.node_id, loop.collect_time_start:loop.collect_time_end], \"activity\"] = \"collect\"\n",
    "    power_consumption.loc[idx[loop.node_id, loop.exec_tflite_start:loop.exec_tflite_end], \"activity\"]   = \"exec_tflite\"\n",
    "    power_consumption.loc[idx[loop.node_id, loop.exec_query_start:loop.exec_query_end], \"activity\"]     = \"exec_query\"\n",
    "    power_consumption.loc[idx[loop.node_id, loop.send_start:loop.send_end], \"activity\"]                 = \"send\"\n",
    "    power_consumption.loc[idx[loop.node_id, loop.save_config_start:loop.save_config_end], \"activity\"]   = \"save_config\"\n",
    "    power_consumption.loc[idx[loop.node_id, loop.sleep_start:loop.sleep_end], \"activity\"]               = \"sleep\"\n",
    "    power_consumption.loc[idx[loop.node_id, loop.riotos_init_start:loop.riotos_init_end], \"activity\"]   = \"riot_os_init\"\n",
    "\n",
    "\n",
    "\n",
    "power_consumption[\"activity\"] = power_consumption[\"activity\"].fillna(\"uncategorised\")\n",
    "power_consumption[\"activity\"] = power_consumption[\"activity\"].astype(\"category\")\n",
    "\n",
    "# There are no loop numbers for the riot_os_init data either so we need to backfill that.\n",
    "power_consumption[\"loop_num\"] = power_consumption.groupby(\"node_id\", observed=True)[\"loop_num\"].bfill()\n",
    "\n",
    "\n",
    "#remove the index again to make it more natural to access the node_id and timestamp columns\n",
    "power_consumption = power_consumption.reset_index()"
   ]
  },
  {
   "cell_type": "code",
   "execution_count": null,
   "metadata": {},
   "outputs": [],
   "source": [
    "power_consumption.groupby(\"activity\", observed=True)[\"power\"].count()"
   ]
  },
  {
   "cell_type": "code",
   "execution_count": null,
   "metadata": {},
   "outputs": [],
   "source": [
    "# plot a single nodes consumption where activity indicates colour'\n",
    "plt.figure()\n",
    "node_id = power_consumption[\"node_id\"].unique()[1]\n",
    "to_plot = power_consumption[node_id == power_consumption[\"node_id\"]].groupby(\"activity\", observed=True)\n",
    "for name, group in to_plot:\n",
    "    plt.scatter(group[\"timestamp\"], group[\"power\"], label=name)\n",
    "    plt.title(node_id)\n",
    "    plt.legend()\n",
    "plt.show()"
   ]
  },
  {
   "cell_type": "code",
   "execution_count": null,
   "metadata": {},
   "outputs": [],
   "source": [
    "# TODO: maybe do some analysis on the riot_os initialisation"
   ]
  },
  {
   "cell_type": "code",
   "execution_count": null,
   "metadata": {},
   "outputs": [],
   "source": [
    "node_id = nodes_with_queries.iloc[-1][\"node_id\"]\n",
    "timing_data = loops[loops[\"node_id\"] == node_id]\n",
    "power_data = power_consumption[power_consumption[\"node_id\"] == node_id]\n",
    "\n",
    "plt.figure()\n",
    "plt.plot(power_data[\"timestamp\"], power_data[\"power\"])\n",
    "alpha = 0.5\n",
    "for row in timing_data.itertuples():\n",
    "    plt.axvspan(row.sync_start, row.sync_end, alpha=alpha, label=\"sync_time\", color=plt.cm.tab20(0))\n",
    "    plt.axvspan(row.load_start, row.load_end, alpha=alpha, label=\"load_time\", color=plt.cm.tab20(1))\n",
    "    plt.axvspan(row.deserialize_start, row.deserialize_end, alpha=alpha, label=\"deserialize_time\", color=plt.cm.tab20(2))\n",
    "    plt.axvspan(row.sensor_init_start, row.sensor_init_end, alpha=alpha, label=\"sensor_init\", color=plt.cm.tab20(3))\n",
    "    plt.axvspan(row.net_init_start, row.net_init_end, alpha=alpha, label=\"net_init\", color=plt.cm.tab20(4))\n",
    "    plt.axvspan(row.collect_time_start, row.collect_time_end, alpha=alpha, label=\"collect_time\", color=plt.cm.tab20(5))\n",
    "    plt.axvspan(row.exec_tflite_start, row.exec_tflite_end, alpha=alpha, label=\"exec_tflite_time\", color=plt.cm.tab20(6))\n",
    "    plt.axvspan(row.exec_query_start, row.exec_query_end, alpha=alpha, label=\"exec_query_time\", color=plt.cm.tab20(7))\n",
    "    plt.axvspan(row.send_start, row.send_end, alpha=alpha, label=\"send_time\", color=plt.cm.tab20(8))\n",
    "    plt.axvspan(row.save_config_start, row.save_config_end, alpha=alpha, label=\"save_config\", color=plt.cm.tab20(9))\n",
    "    plt.axvspan(row.sleep_start, row.sleep_end, alpha=alpha, label=\"sleep_time\", color=plt.cm.tab20(10))\n",
    "# this to remove duplicate labels https://stackoverflow.com/questions/13588920/stop-matplotlib-repeating-labels-in-legend\n",
    "handles, labels = plt.gca().get_legend_handles_labels()\n",
    "by_label = dict(zip(labels, handles))\n",
    "plt.legend(by_label.values(), by_label.keys())\n",
    "plt.gca().xaxis.set_major_locator(SecondLocator(interval=30))\n",
    "plt.gca().xaxis.set_minor_locator(SecondLocator(interval=5))\n",
    "plt.title(f\"Node: {node_id}\")\n",
    "plt.xlabel(\"Timestamp\")\n",
    "plt.ylabel(\"Power (Watt)\")\n",
    "plt.gca().xaxis.set_major_formatter(DateFormatter('%H:%M:%S.%f'))  # Set the date format for the tick labels\n",
    "plt.show()\n"
   ]
  },
  {
   "cell_type": "markdown",
   "metadata": {},
   "source": [
    "## Add events if any"
   ]
  },
  {
   "cell_type": "code",
   "execution_count": null,
   "metadata": {},
   "outputs": [],
   "source": [
    "# get all relevant frame-events\n",
    "%sql send_frame_start << select * from expdb.Trace WHERE message LIKE '%send frame%'\n",
    "%sql send_frame_end << select * from expdb.Trace WHERE message LIKE '%Transmission completed%'\n",
    "%sql receive_frame_start << select * from expdb.Trace WHERE message LIKE '%RX started%'\n",
    "%sql receive_frame_end << select * from expdb.Trace WHERE message LIKE '%received something%'\n",
    "\n",
    "print(f\"{len(send_frame_start)} send frame start events. {len(send_frame_end)} end events. {len(receive_frame_start)} receive frame start events. {len(receive_frame_end)} end events.\")"
   ]
  },
  {
   "cell_type": "code",
   "execution_count": null,
   "metadata": {},
   "outputs": [],
   "source": [
    "#drop first row of send_frame_end and receive_frame_start since thats from the join procedure\n",
    "send_frame_end = send_frame_end.iloc[1:]\n",
    "receive_frame_start = receive_frame_start.iloc[1:]\n",
    "\n",
    "# confirm the 2 pairs of start/end all have the same length\n",
    "#assert len(send_frame_start) == len(send_frame_end), f\"send frame event mismatch. start {len(send_frame_start)}, end { len(send_frame_end)}\"\n",
    "#assert len(receive_frame_start) == len(receive_frame_end), f\"receive frame event mismatch  {len(receive_frame_start)}, end { len(receive_frame_end)}\""
   ]
  },
  {
   "cell_type": "code",
   "execution_count": null,
   "metadata": {},
   "outputs": [],
   "source": [
    "# add send and receive columns to plot\n",
    "#TODO: update this to support more nodes\n",
    "# for send_start_row, send_end_row in zip(send_frame_start.itertuples(), send_frame_end.itertuples()):\n",
    "#     start_time = send_start_row.timestamp\n",
    "#     end_time = send_end_row.timestamp\n",
    "#     plt.axvspan(start_time, end_time, color='tab:pink', alpha=0.5, label=\"send_events\")\n",
    "\n",
    "# for receive_frame_start, receive_frame_end in zip(receive_frame_start.itertuples(), receive_frame_end.itertuples()):\n",
    "#     start_time = receive_frame_start.timestamp\n",
    "#     end_time = receive_frame_end.timestamp\n",
    "#     plt.axvspan(start_time, end_time, color='tab:brown', alpha=0.5, label=\"receive_events\")\n",
    "\n",
    "\n",
    "# handles, labels = plt.gca().get_legend_handles_labels()\n",
    "# by_label = dict(zip(labels, handles))\n",
    "# plt.legend(by_label.values(), by_label.keys())\n",
    "\n",
    "# plt.show()"
   ]
  },
  {
   "cell_type": "code",
   "execution_count": null,
   "metadata": {},
   "outputs": [],
   "source": [
    "%sql SELECT * from expdb.Content_Message"
   ]
  },
  {
   "cell_type": "code",
   "execution_count": null,
   "metadata": {},
   "outputs": [],
   "source": [
    "%%sql\n",
    "SELECT\n",
    "    through_gateway,\n",
    "    gateway_received_at,\n",
    "    app_received_at,\n",
    "    rssi,\n",
    "    snr,\n",
    "    bandwidth,\n",
    "    frequency,\n",
    "    consumed_airtime_s,\n",
    "    spreading_factor,\n",
    "    coding_rate,\n",
    "    frame_counter,\n",
    "    frame_port,\n",
    "    frame_payload,\n",
    "    from_base64(frame_payload) as decoded_payload,\n",
    "    related_node,\n",
    "    network_received_at\n",
    "FROM\n",
    "    expdb.Uplink_Message,\n",
    "    expdb.Content_Message,\n",
    "    expdb.Message \n",
    "WHERE\n",
    "    Uplink_Message.uplink_message_id = Message.message_id AND\n",
    "    Content_Message.content_message_id = Message.message_id"
   ]
  },
  {
   "cell_type": "markdown",
   "metadata": {},
   "source": [
    "## experiment stats\n",
    "with sync signals and events mapped we can see some stats on the experiments"
   ]
  },
  {
   "cell_type": "code",
   "execution_count": null,
   "metadata": {},
   "outputs": [],
   "source": [
    "%%sql\n",
    "select * from expdb.Node"
   ]
  },
  {
   "cell_type": "markdown",
   "metadata": {},
   "source": [
    "## calculate avg power per activity"
   ]
  },
  {
   "cell_type": "code",
   "execution_count": null,
   "metadata": {},
   "outputs": [],
   "source": [
    "import statsmodels.stats.api as smstats\n",
    "\n",
    "def calc_confidence_interval(series: pd.Series) -> pd.Series:\n",
    "    low, high = smstats.DescrStatsW(series).tconfint_mean(alpha=0.05)\n",
    "    #low, high = st.norm.interval(0.95, loc=series[\"mean\"], scale=series[\"std\"])\n",
    "    return pd.Series({\n",
    "        \"low\": low,\n",
    "        \"high\": high\n",
    "    })\n",
    "\n"
   ]
  },
  {
   "cell_type": "code",
   "execution_count": null,
   "metadata": {},
   "outputs": [],
   "source": [
    "power_consumption.groupby([\"activity\",\"loop_num\"], observed=True)[\"power\"].count()"
   ]
  },
  {
   "cell_type": "code",
   "execution_count": null,
   "metadata": {},
   "outputs": [],
   "source": [
    "\n",
    "mean_of_loops = power_consumption.groupby([\"node_id\",\"activity\",\"loop_num\"], observed=True)[\"power\"].mean()\n",
    "mean_of_activities_of_loops = mean_of_loops.groupby([\"activity\"], observed=True).mean()\n",
    "errors = mean_of_loops.groupby([\"activity\"], observed=True).apply(calc_confidence_interval).unstack(level=-1)\n",
    "errors_relative = np.abs(errors.T - mean_of_activities_of_loops)\n",
    "## since error_bounds are absolute and matplotlib likes them relative, we need to substract the mean to get relative error - and take the absolute to flip\n",
    "## the sign on the lower bound\n",
    "# print((mean_of_activities_of_loops.repeat(2)).values)\n",
    "#error_relative = np.abs(errors - mean_of_activities_of_loops)\n",
    "plt.figure()\n",
    "plt.bar(mean_of_activities_of_loops.index, mean_of_activities_of_loops.values, yerr=errors_relative.values, capsize=4)\n",
    "plt.xticks(rotation=45, ha=\"right\")\n",
    "plt.xlabel(\"Activity\")\n",
    "plt.ylabel(\"Power (W)\")\n",
    "plt.title(\"Avg Power per Activity across all devices\")\n",
    "plt.show()"
   ]
  },
  {
   "cell_type": "markdown",
   "metadata": {},
   "source": [
    "## remove baseline power consumption from measurements\n",
    "We assume sleep gives us a good baseline for low power consumption so to make clearer the differences between periods we subtract sleep"
   ]
  },
  {
   "cell_type": "code",
   "execution_count": null,
   "metadata": {},
   "outputs": [],
   "source": [
    "sleep_baseline = power_consumption[power_consumption[\"activity\"] == \"sleep\"][\"power\"].mean()\n",
    "# this takes the average of all sleep measurement which is different than the average worked with so far,\n",
    "# which is the average per activity per loop averaged for all loops\n",
    "sleep_baseline"
   ]
  },
  {
   "cell_type": "code",
   "execution_count": null,
   "metadata": {},
   "outputs": [],
   "source": [
    "## check how the data now looks. we ignore the sleep and uncategorised\n",
    "power_consumption[\"power_without_sleep\"] = power_consumption[\"power\"] - sleep_baseline\n",
    "power_consumption[(power_consumption[\"activity\"] != \"sleep\") & (power_consumption[\"activity\"] != \"uncategorised\")][\"power_without_sleep\"].describe()"
   ]
  },
  {
   "cell_type": "code",
   "execution_count": null,
   "metadata": {},
   "outputs": [],
   "source": [
    "## plot a node with the new data with activities\n",
    "node_id = nodes_with_queries.iloc[0][\"node_id\"]\n",
    "timing_data = loops[loops[\"node_id\"] == node_id]\n",
    "power_data = power_consumption[power_consumption[\"node_id\"] == node_id]\n",
    "\n",
    "plt.figure()\n",
    "plt.plot(power_data[\"timestamp\"], power_data[\"power_without_sleep\"])\n",
    "for row in timing_data.itertuples():\n",
    "    plt.axvspan(row.sync_start, row.sync_end, alpha=alpha, label=\"sync_time\", color=plt.cm.tab20(0))\n",
    "    plt.axvspan(row.load_start, row.load_end, alpha=alpha, label=\"load_time\", color=plt.cm.tab20(1))\n",
    "    plt.axvspan(row.deserialize_start, row.deserialize_end, alpha=alpha, label=\"deserialize_time\", color=plt.cm.tab20(2))\n",
    "    plt.axvspan(row.sensor_init_start, row.sensor_init_end, alpha=alpha, label=\"sensor_init\", color=plt.cm.tab20(3))\n",
    "    plt.axvspan(row.net_init_start, row.net_init_end, alpha=alpha, label=\"net_init\", color=plt.cm.tab20(4))\n",
    "    plt.axvspan(row.collect_time_start, row.collect_time_end, alpha=alpha, label=\"collect_time\", color=plt.cm.tab20(5))\n",
    "    plt.axvspan(row.exec_tflite_start, row.exec_tflite_end, alpha=alpha, label=\"exec_tflite_time\", color=plt.cm.tab20(6))\n",
    "    plt.axvspan(row.exec_query_start, row.exec_query_end, alpha=alpha, label=\"exec_query_time\", color=plt.cm.tab20(7))\n",
    "    plt.axvspan(row.send_start, row.send_end, alpha=alpha, label=\"send_time\", color=plt.cm.tab20(8))\n",
    "    plt.axvspan(row.save_config_start, row.save_config_end, alpha=alpha, label=\"save_config\", color=plt.cm.tab20(9))\n",
    "    plt.axvspan(row.sleep_start, row.sleep_end, alpha=alpha, label=\"sleep_time\", color=plt.cm.tab20(10))\n",
    "# this to remove duplicate labels https://stackoverflow.com/questions/13588920/stop-matplotlib-repeating-labels-in-legend\n",
    "handles, labels = plt.gca().get_legend_handles_labels()\n",
    "by_label = dict(zip(labels, handles))\n",
    "plt.legend(by_label.values(), by_label.keys())\n",
    "plt.gca().xaxis.set_major_locator(SecondLocator(interval=30))\n",
    "plt.gca().xaxis.set_minor_locator(SecondLocator(interval=5))\n",
    "plt.title(f\"Node: {node_id} with sleep subtracted\")\n",
    "plt.xlabel(\"Timestamp\")\n",
    "plt.ylabel(\"Power (Watt)\")\n",
    "plt.gca().xaxis.set_major_formatter(DateFormatter('%H:%M:%S.%f'))  # Set the date format for the tick labels\n",
    "plt.show()"
   ]
  },
  {
   "cell_type": "code",
   "execution_count": null,
   "metadata": {},
   "outputs": [],
   "source": [
    "mean_of_loops_without_sleep = power_consumption.groupby([\"node_id\",\"activity\",\"loop_num\"], observed=True)[\"power_without_sleep\"].mean()\n",
    "mean_of_activities_of_loops_without_sleep = mean_of_loops_without_sleep.groupby([\"activity\"], observed=True).mean()\n",
    "errors = mean_of_loops_without_sleep.groupby([\"activity\"], observed=True).apply(calc_confidence_interval).unstack(level=-1)\n",
    "errors_relative = np.abs(errors.T - mean_of_activities_of_loops_without_sleep)\n",
    "## since error_bounds are absolute and matplotlib likes them relative, we need to substract the mean to get relative error - and take the absolute to flip\n",
    "## the sign on the lower bound\n",
    "# print((mean_of_activities_of_loops.repeat(2)).values)\n",
    "#error_relative = np.abs(errors - mean_of_activities_of_loops)\n",
    "plt.figure()\n",
    "plt.bar(mean_of_activities_of_loops_without_sleep.index, mean_of_activities_of_loops_without_sleep.values, yerr=errors_relative.values, capsize=4)\n",
    "plt.xticks(rotation=45, ha=\"right\")\n",
    "plt.xlabel(\"Activity\")\n",
    "plt.ylabel(\"Power (W)\")\n",
    "plt.title(\"Avg Power per Activity with sleep subtracted across all devices\")\n",
    "plt.show()"
   ]
  },
  {
   "cell_type": "code",
   "execution_count": null,
   "metadata": {},
   "outputs": [],
   "source": [
    "## lets look at time consumption per activity\n",
    "grouped_timestamps = power_consumption[(power_consumption[\"activity\"] != \"uncategorised\") & (power_consumption[\"node_id\"].isin(nodes_with_queries[\"node_id\"]))].groupby([\"node_id\",\"activity\",\"loop_num\"], observed=True)[\"timestamp\"]\n",
    "duration_of_activity_per_nodeid_activity_loopnum = grouped_timestamps.max() - grouped_timestamps.min()\n",
    "duration_of_activity_per_nodeid_activity_loopnum.rename(\"duration\", inplace=True)\n",
    "\n",
    "#and then take mean of loops for each node_id,activity. and also calculate CI\n",
    "grouped = duration_of_activity_per_nodeid_activity_loopnum.groupby([\"node_id\",\"activity\"], observed=True)\n",
    "mean_duration_of_activity_per_nodeid_activity = grouped.mean()\n",
    "\n",
    "mean_duration_of_activity_per_nodeid_activity_ci = pd.to_timedelta(grouped.apply(lambda x: calc_confidence_interval(pd.to_numeric(x))), unit=\"us\").unstack(-1)\n",
    "\n",
    "\n",
    "errors_relative = mean_duration_of_activity_per_nodeid_activity_ci.sub(mean_duration_of_activity_per_nodeid_activity, axis=0).abs()\n",
    "\n",
    "\n",
    "# since matplotlib and pandas are annoying we have to construct the plot to get the error bars\n",
    "x_labels = mean_duration_of_activity_per_nodeid_activity.index.get_level_values(1).unique()\n",
    "locations = np.arange(len(x_labels))\n",
    "width = 1 / len(x_labels)\n",
    "multiplier = 0\n",
    "\n",
    "grouped = mean_duration_of_activity_per_nodeid_activity.groupby(\"node_id\", observed=True)\n",
    "\n",
    "plt.figure()\n",
    "for node_id, group in grouped:\n",
    "    group = group.astype(\"timedelta64[ns]\").values\n",
    "    yerrs = errors_relative.loc[idx[node_id,:]].T.values\n",
    "    offset = width * multiplier\n",
    "    plt.bar(locations+offset, group, width=width, label=node_id, yerr=errors_relative.loc[idx[node_id,:]].T.values, log=True, capsize=4)\n",
    "    multiplier += 1\n",
    "\n",
    "plt.xticks(ticks=locations+width, labels=x_labels, rotation=45)\n",
    "plt.xlabel(\"Activity\")\n",
    "plt.ylabel(\"Duration (ns)\")\n",
    "plt.title(\"Avg Duration per Activity per device\")\n",
    "plt.legend()\n",
    "plt.show()\n"
   ]
  },
  {
   "cell_type": "code",
   "execution_count": null,
   "metadata": {},
   "outputs": [],
   "source": [
    "## now that we can see they are extremely similar, lets take an average across all devices\n",
    "duration_results = duration_of_activity_per_nodeid_activity_loopnum.groupby([\"activity\"], observed=True).mean().copy()\n",
    "#convert the timings to raw ms\n",
    "# add _duration suffix to categorical index\n",
    "duration_results.index = duration_results.index.rename_categories([f\"{cat}_duration_us\" for cat in duration_results.index.categories])\n",
    "duration_results = duration_results.apply(lambda x: int(x / pd.Timedelta(\"1us\")))\n",
    "\n",
    "\n",
    "energy_results = mean_of_activities_of_loops_without_sleep.copy()\n",
    "energy_results.index = energy_results.index.rename_categories([f\"{cat}_watts\" for cat in energy_results.index.categories])\n",
    "current_results = pd.DataFrame(pd.concat([duration_results, energy_results])).T\n",
    "current_results.columns.name = None\n",
    "current_results[\"experiment_id\"] = int(EXP_ID)\n",
    "\n",
    "#read the existing csv file \"results\" and combine with current results\n",
    "\n",
    "import os\n",
    "if os.path.exists(\"results.csv\"):\n",
    "    results = pd.read_csv(\"results.csv\",header=0)\n",
    "    results = pd.concat([results,current_results], join=\"inner\", axis=0)\n",
    "    results = results.drop_duplicates(subset=\"experiment_id\")\n",
    "    results = results.set_index(\"experiment_id\")\n",
    "    results = results.sort_index()\n",
    "    results.to_csv(\"results.csv\")\n",
    "    \n",
    "else:\n",
    "    current_results.to_csv(\"results.csv\")\n"
   ]
  },
  {
   "cell_type": "markdown",
   "metadata": {},
   "source": [
    "## initial model thoughts\n",
    "The Energy consumed is roughly the average power in activity times length of activity. All energy consumed during activities are affected by outside factors as either their power or length is affected. However most are amortized constant. Here is an overview:\n",
    "\n",
    "- **Riot OS initialization**: constant\n",
    "\n",
    "    Riot needs to boot. This takes some time and power.\n",
    "\n",
    "- **sync**: constant\n",
    "\n",
    "    Only applicable for testing, so removed in real-world scenario\n",
    "    \n",
    "\n",
    "- **load**: dependent on query length\n",
    "\n",
    "    Loads network configuration (constant time) and serialized query (dependent on query length)\n",
    "\n",
    "\n",
    "- **deserialize**: dependent on query length\n",
    "\n",
    "    If there is a query, deserialize it. This should probably be classified under load, even though it technically happens in different places in Terra\n",
    "\n",
    "\n",
    "- **sensor_init**: Mostly constant. depend on sensors\n",
    "\n",
    "    initialises sensors and their communication channels. Some sensors require no initialization, while others have boot-up times, calibration or others that require varying amounts of power and time.  \n",
    "\n",
    "\n",
    "- **net_init**: amortized constant.\n",
    "\n",
    "    Initialises network. If not connected, this requires a power and time costly OTAA procedure that is highly dependent on environment. If already connected, this is a constant time OS initialization.\n",
    "\n",
    "- **sensor_collect**: Mostly constant. depend on sensors\n",
    "\n",
    "    Collection of sensor values. some sensors is a simple constant time read. Others need to perform activities like running a fan until some threshold is passed. \n",
    "\n",
    "\n",
    "- **exec**: dependent on query length and tflite complexity\n",
    "\n",
    "    - tflite might have a fixed constant cost or be more flexible. More testing needed\n",
    "    - query length might have a fixed constant cost or be more flexible. More testing needed\n",
    "\n",
    "\n",
    "\n",
    "- **send**: dependent on query, filter selectivity and guaranteed send parameter\n",
    "\n",
    "    send is highly dependent on number of results to transmit and if a query passes a filter or not. and on environment.\n",
    "\n",
    "\n",
    "- **save_config**: dependent on query length\n",
    "\n",
    "    Could possibly also go under a new variable called \"ConfigHandling\" or the like\n",
    "\n",
    "\n",
    "- **sleep**: dependent on all others\n",
    "\n",
    "    However we assume this is the lowest possible power state so nothing can be done about this\n",
    "\n",
    "\n",
    "each of the above points can be a parameter in the energy model, and their absolute power cost will be either a constant or a factor times the baseline power consumption. The values for these have to be derived experimentally and are unique per device model"
   ]
  },
  {
   "cell_type": "markdown",
   "metadata": {},
   "source": [
    "Given the info above we produce the formula below\n",
    "\n",
    "$$\n",
    "\\text{Epoch}_{Energy} = \\text{LoadConfig}_{time}\\cdot\\text{LoadConfig}_{power} + \\text{Deserialize}_{time}\\cdot\\text{Deserialize}_{power} +  \\text{SensorInit}_{time}\\cdot\\text{SensorInit}_{power}+ \\text{NetInit}_{time}\\cdot\\text{NetInit}_{power} + \\text{SensorCollect}_{time}\\cdot\\text{SensorCollect}_{power}+ \\text{Exec}_{time}\\cdot\\text{Exec}_{power} + \\text{Send}_{time}\\cdot\\text{Send}_{power}+ \\text{SaveConfig}_{time}\\cdot\\text{SaveConfig}_{power}\n",
    "$$"
   ]
  },
  {
   "cell_type": "markdown",
   "metadata": {},
   "source": [
    "## Calculate Total Energy Consumed per activity"
   ]
  },
  {
   "cell_type": "code",
   "execution_count": null,
   "metadata": {},
   "outputs": [],
   "source": [
    "#define function to calculate energy consumed\n",
    "def calc_energy_consumed(df: pd.DataFrame):\n",
    "    \"\"\"\n",
    "    calculate energy consumed in the given dataframe. Assumes the times are in index and is of type pd.DatetimeIndex and power is in column \"power\"\n",
    "    Assumes power is in W\n",
    "    :param df: dataframe with power consumption\n",
    "    :return: energy consumed in the unit of W times s or J\n",
    "    \"\"\"\n",
    "    # create a copy of the dataframe with only index and power\n",
    "    if len(df) == 0:\n",
    "        return 0\n",
    "    #     # ensure we only calculate for data frames containing data from a single node\n",
    "    # assert len(df[\"node_id\"].unique()) == 1, \"energy consumption only supported for single node\"\n",
    "\n",
    "    # # assert df have columns \"power\" and index of \"timestamp\" type\n",
    "    # assert \"power\" in df.columns, \"power column not found\"\n",
    "    # assert isinstance(df.index, pd.DatetimeIndex), \"index is not  of type pd.DatetimeIndex\"\n",
    "    times = df.index.values\n",
    "    powers = df[\"power\"].values\n",
    "\n",
    "    #power[\"power_diff\"] = power.diff().shift(-1) #  current - previous, shifted one back so it becomes next - current. i.e. current + diff = next\n",
    "    time_diff= np.abs(np.diff(times)) # abs(next-current)\n",
    "    time_diff_s = time_diff / np.timedelta64(1, 's') # get timediff in fractions of a second\n",
    "    powers = powers[:-1] # drop last row since it has no next and doesnt match up with the time_diff\n",
    "    return np.sum(powers * time_diff_s) # returns the sum of power times fractions of a second. Since power is in W and time_diff_s is in seconds it is in W*s or J\n"
   ]
  },
  {
   "cell_type": "code",
   "execution_count": null,
   "metadata": {},
   "outputs": [],
   "source": [
    "# loops contain the start and end times of each activity, so loop over loops and calculate the energy for each activity\n",
    "def calc_energy_consumed_per_activity(series_loops: pd.Series) -> pd.Series:\n",
    "    power_consumption_for_node = power_consumption[(power_consumption[\"node_id\"] == series_loops[\"node_id\"])]\n",
    "    power_consumption_for_node.set_index(\"timestamp\", inplace=True)\n",
    "    return pd.Series({\n",
    "        \"node_id\": series_loops[\"node_id\"],\n",
    "        \"loop_num\": series_loops[\"loop_num\"],\n",
    "        \"total\": calc_energy_consumed(power_consumption_for_node.loc[series_loops[\"start_time\"]:series_loops[\"sleep_end\"]]),\n",
    "        \"loop signal\": calc_energy_consumed(power_consumption_for_node.loc[series_loops[\"start_time\"]:series_loops[\"loop_signal_end\"]]),\n",
    "        \"total without loop signal\": calc_energy_consumed(power_consumption_for_node.loc[series_loops[\"loop_signal_end\"]:series_loops[\"sleep_end\"]]),\n",
    "        \"load config\": calc_energy_consumed(power_consumption_for_node.loc[series_loops[\"load_start\"]:series_loops[\"load_end\"]]),\n",
    "        \"deserialize\": calc_energy_consumed(power_consumption_for_node.loc[series_loops[\"deserialize_start\"]:series_loops[\"deserialize_end\"]]),\n",
    "        \"sensor init\": calc_energy_consumed(power_consumption_for_node.loc[series_loops[\"sensor_init_start\"]:series_loops[\"sensor_init_end\"]]),\n",
    "        \"net init\": calc_energy_consumed(power_consumption_for_node.loc[series_loops[\"net_init_start\"]:series_loops[\"net_init_end\"]]),\n",
    "        \"sensor collect\": calc_energy_consumed(power_consumption_for_node.loc[series_loops[\"collect_time_start\"]:series_loops[\"collect_time_end\"]]),\n",
    "        \"tflite execution\": calc_energy_consumed(power_consumption_for_node.loc[series_loops[\"exec_tflite_start\"]:series_loops[\"exec_tflite_end\"]]),\n",
    "        \"query execution\": calc_energy_consumed(power_consumption_for_node.loc[series_loops[\"exec_query_start\"]:series_loops[\"exec_query_end\"]]),\n",
    "        \"send\": calc_energy_consumed(power_consumption_for_node.loc[series_loops[\"send_start\"]:series_loops[\"send_end\"]]),\n",
    "        \"save config\": calc_energy_consumed(power_consumption_for_node.loc[series_loops[\"save_config_start\"]:series_loops[\"save_config_end\"]]),\n",
    "        \"sleep\": calc_energy_consumed(power_consumption_for_node.loc[series_loops[\"sleep_start\"]:series_loops[\"sleep_end\"]]),\n",
    "    })\n",
    "energy_consumed = loops.apply(calc_energy_consumed_per_activity, axis=1)\n",
    "energy_consumed_summary = energy_consumed.describe()\n",
    "energy_consumed_summary"
   ]
  },
  {
   "cell_type": "code",
   "execution_count": null,
   "metadata": {},
   "outputs": [],
   "source": [
    "energy_consumed.head()"
   ]
  },
  {
   "cell_type": "code",
   "execution_count": null,
   "metadata": {},
   "outputs": [],
   "source": [
    "# define the columns we want to work with. Note that since we dont include node_id we effectively remove the individual nodes from the calculations\n",
    "columns_without_totals = [\"loop signal\", \"load config\", \"deserialize\", \"sensor init\", \"net init\", \"sensor collect\",\"tflite execution\", \"query execution\", \"send\", \"save config\", \"sleep\"]\n",
    "columns = [\"total\", \"total without loop signal\"] + columns_without_totals"
   ]
  },
  {
   "cell_type": "code",
   "execution_count": null,
   "metadata": {},
   "outputs": [],
   "source": [
    "error_bounds = energy_consumed[columns].apply(calc_confidence_interval)\n",
    "error_bounds"
   ]
  },
  {
   "cell_type": "code",
   "execution_count": null,
   "metadata": {},
   "outputs": [],
   "source": [
    "# plot barchart with stddev error bars\n",
    "plt.figure()\n",
    "to_plot = energy_consumed_summary[columns]\n",
    "\n",
    "## since error_bounds are absolute and matplotlib likes them relative, we need to substract the mean to get relative error - and take the absolute to flip\n",
    "## the sign on the lower bound\n",
    "error_relative = np.abs(error_bounds - to_plot.loc[\"mean\"])\n",
    "\n",
    "plt.bar(to_plot.columns, to_plot.loc[\"mean\"], yerr=error_relative,capsize=4)\n",
    "plt.xticks(rotation=45, ha=\"right\")\n",
    "plt.tight_layout()\n",
    "plt.xlabel(\"Activity\")\n",
    "plt.ylabel(\"Energy (J)\")\n",
    "plt.title(\"Energy Consumed per Activity across all devices including totals\")\n",
    "plt.show()"
   ]
  },
  {
   "cell_type": "code",
   "execution_count": null,
   "metadata": {},
   "outputs": [],
   "source": [
    "# plot barchart without totals \n",
    "plt.figure()\n",
    "to_plot = energy_consumed_summary[columns_without_totals]\n",
    "error_relative = np.abs(error_bounds[columns_without_totals] - to_plot.loc[\"mean\"])\n",
    "plt.bar(to_plot.columns, to_plot.loc[\"mean\"], yerr=error_relative, log=True, capsize=4)\n",
    "plt.xticks(rotation=45, ha=\"right\")\n",
    "plt.tight_layout()\n",
    "plt.xlabel(\"Activity\")\n",
    "plt.ylabel(\"Energy (J)\")\n",
    "plt.title(\"Energy Consumed per Activity across all devices\")\n",
    "plt.show()"
   ]
  },
  {
   "cell_type": "code",
   "execution_count": null,
   "metadata": {},
   "outputs": [],
   "source": [
    "# plot barchart without totals and without the 0th loop\n",
    "# recalc summary without 0 loops\n",
    "without_0th_loop = loops[loops[\"loop_num\"] > 0].apply(calc_energy_consumed_per_activity, axis=1)\n",
    "without_0th_loop_summary = without_0th_loop.describe()"
   ]
  },
  {
   "cell_type": "code",
   "execution_count": null,
   "metadata": {},
   "outputs": [],
   "source": [
    "error_bounds_without_0th_loop = without_0th_loop[columns].apply(calc_confidence_interval)\n"
   ]
  },
  {
   "cell_type": "code",
   "execution_count": null,
   "metadata": {},
   "outputs": [],
   "source": [
    "to_plot = without_0th_loop_summary[columns_without_totals]\n",
    "\n",
    "errors_relative = np.abs(error_bounds_without_0th_loop[columns_without_totals] - to_plot.loc[\"mean\"])\n",
    "#energy_consumed_without_0th_loop\n",
    "## plot both with log scale and without\n",
    "fig, (ax1, ax2) =  plt.subplots(1,2)\n",
    "\n",
    "fig.suptitle(\"Energy Consumed per Activity across all devices without 0th loop\")\n",
    "fig.supxlabel(\"Activity\")\n",
    "fig.supylabel(\"Energy (J)\")\n",
    "\n",
    "ax1.bar(to_plot.columns, to_plot.loc[\"mean\"], yerr=errors_relative, capsize=4, log=True)\n",
    "plt.setp(ax1.get_xticklabels(), rotation=45, ha=\"right\")\n",
    "ax2.bar(to_plot.columns, to_plot.loc[\"mean\"], yerr=errors_relative, capsize=4)\n",
    "plt.setp(ax2.get_xticklabels(), rotation=45, ha=\"right\")\n",
    "\n",
    "\n",
    "\n",
    "plt.tight_layout()\n",
    "plt.show()"
   ]
  },
  {
   "cell_type": "code",
   "execution_count": null,
   "metadata": {},
   "outputs": [],
   "source": [
    "without_0th_loop.groupby(\"node_id\").describe()"
   ]
  },
  {
   "cell_type": "code",
   "execution_count": null,
   "metadata": {},
   "outputs": [],
   "source": [
    "## plot per node\n",
    "grouped = without_0th_loop[['node_id'] + columns_without_totals] \\\n",
    "    .groupby(\"node_id\")\n",
    "# grouped_agg = grouped.agg([\"mean\", \"std\"])\n",
    "# def hej(row: pd.Series):\n",
    "#     outermost_column = list(set(k[0] for k in row.keys()))\n",
    "#     idx = pd.MultiIndex.from_product([outermost_column, [\"low\",\"high\"]])\n",
    "#     res = pd.Series(index=idx)\n",
    "#     for col in outermost_column:\n",
    "#         res[col] = calc_confidence_interval(row[col])\n",
    "#     return res\n",
    "# ci = grouped_agg.apply(hej, axis=1)"
   ]
  },
  {
   "cell_type": "code",
   "execution_count": null,
   "metadata": {},
   "outputs": [],
   "source": [
    "locations = np.arange(len(columns_without_totals))\n",
    "width = 0.05\n",
    "multiplier = 0\n",
    "fig, ax = plt.subplots(1, 1, figsize=(12, 5))\n",
    "for node_id, row in grouped:\n",
    "    values = row[columns_without_totals].mean().values\n",
    "    error_bounds = row[columns_without_totals].apply(calc_confidence_interval)\n",
    "    errors_relative = np.abs(error_bounds - values)\n",
    "    #values = row.loc[node_id,(slice(None),\"mean\")][columns].values\n",
    "    #errors_low = values - ci.loc[node_id,(slice(None),\"low\")][columns]\n",
    "    #errors_high = ci.loc[node_id,(slice(None),\"high\")][columns] - values\n",
    "    # for node_id, mean in row.loc[activity,\"mean\"].items():\n",
    "    offset = width * multiplier\n",
    "\n",
    "    rects = ax.bar(locations + offset, values, width, capsize=2, label=node_id, yerr=errors_relative, log=True)\n",
    "    #ax.bar_label(rects, padding=3)\n",
    "    multiplier += 1\n",
    "ax.legend(title=\"Node ID\")\n",
    "ax.set_title(\"Energy consumed per activity per device without connection establishment loop\")\n",
    "ax.set_ylabel(\"Energy (J)\")\n",
    "ax.set_xlabel(\"Activity\")\n",
    "ax.set_xticks(locations + 0.25, columns_without_totals, rotation=20, ha=\"right\")\n",
    "plt.show()"
   ]
  },
  {
   "cell_type": "code",
   "execution_count": null,
   "metadata": {},
   "outputs": [],
   "source": [
    "\n",
    "#TODO: vis distribution over query execution means\n",
    "# IFT: 2 modaliteter: selectivity på filtre. lav exp med forskl. selectivity og regression til cost model\n",
    "# størrelse af query: save cost afhænger af query størrelse\n",
    "\n",
    "# TODO: from Viktor\n",
    "# before doing the above try to from the data you have derive a power consumption per time period and estimate the powerconsumption linearly based on the time the activity takes\n"
   ]
  }
 ],
 "metadata": {
  "kernelspec": {
   "display_name": "Python 3",
   "language": "python",
   "name": "python3"
  },
  "language_info": {
   "codemirror_mode": {
    "name": "ipython",
    "version": 3
   },
   "file_extension": ".py",
   "mimetype": "text/x-python",
   "name": "python",
   "nbconvert_exporter": "python",
   "pygments_lexer": "ipython3",
   "version": "3.10.12"
  },
  "orig_nbformat": 4
 },
 "nbformat": 4,
 "nbformat_minor": 2
}
